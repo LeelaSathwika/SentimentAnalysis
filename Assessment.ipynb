{
  "nbformat": 4,
  "nbformat_minor": 0,
  "metadata": {
    "colab": {
      "provenance": [],
      "gpuType": "T4",
      "authorship_tag": "ABX9TyN0eHUznLPyuQXGxuzwsS6N",
      "include_colab_link": true
    },
    "kernelspec": {
      "name": "python3",
      "display_name": "Python 3"
    },
    "language_info": {
      "name": "python"
    },
    "accelerator": "GPU",
    "widgets": {
      "application/vnd.jupyter.widget-state+json": {
        "16ae4957974547e68cf661d0a72117e2": {
          "model_module": "@jupyter-widgets/controls",
          "model_name": "HBoxModel",
          "model_module_version": "1.5.0",
          "state": {
            "_dom_classes": [],
            "_model_module": "@jupyter-widgets/controls",
            "_model_module_version": "1.5.0",
            "_model_name": "HBoxModel",
            "_view_count": null,
            "_view_module": "@jupyter-widgets/controls",
            "_view_module_version": "1.5.0",
            "_view_name": "HBoxView",
            "box_style": "",
            "children": [
              "IPY_MODEL_d780e0560589498aa931085195af087e",
              "IPY_MODEL_ca4e5a48d7384d5d8167c811cfe3871b",
              "IPY_MODEL_2f3510a5e6c54f6487c6f56cda86f83c"
            ],
            "layout": "IPY_MODEL_30e36ef13a1441798e5d12de7a1ae6af"
          }
        },
        "d780e0560589498aa931085195af087e": {
          "model_module": "@jupyter-widgets/controls",
          "model_name": "HTMLModel",
          "model_module_version": "1.5.0",
          "state": {
            "_dom_classes": [],
            "_model_module": "@jupyter-widgets/controls",
            "_model_module_version": "1.5.0",
            "_model_name": "HTMLModel",
            "_view_count": null,
            "_view_module": "@jupyter-widgets/controls",
            "_view_module_version": "1.5.0",
            "_view_name": "HTMLView",
            "description": "",
            "description_tooltip": null,
            "layout": "IPY_MODEL_8dd4f62361c7414b9211893ff25bd660",
            "placeholder": "​",
            "style": "IPY_MODEL_3f516deb70c647c0b0cfd716fd513f1a",
            "value": "config.json: 100%"
          }
        },
        "ca4e5a48d7384d5d8167c811cfe3871b": {
          "model_module": "@jupyter-widgets/controls",
          "model_name": "FloatProgressModel",
          "model_module_version": "1.5.0",
          "state": {
            "_dom_classes": [],
            "_model_module": "@jupyter-widgets/controls",
            "_model_module_version": "1.5.0",
            "_model_name": "FloatProgressModel",
            "_view_count": null,
            "_view_module": "@jupyter-widgets/controls",
            "_view_module_version": "1.5.0",
            "_view_name": "ProgressView",
            "bar_style": "success",
            "description": "",
            "description_tooltip": null,
            "layout": "IPY_MODEL_ed78c45d0f744a40934f7ece09799124",
            "max": 629,
            "min": 0,
            "orientation": "horizontal",
            "style": "IPY_MODEL_8a01f3568f854d1cab4beb66b4f4e7a8",
            "value": 629
          }
        },
        "2f3510a5e6c54f6487c6f56cda86f83c": {
          "model_module": "@jupyter-widgets/controls",
          "model_name": "HTMLModel",
          "model_module_version": "1.5.0",
          "state": {
            "_dom_classes": [],
            "_model_module": "@jupyter-widgets/controls",
            "_model_module_version": "1.5.0",
            "_model_name": "HTMLModel",
            "_view_count": null,
            "_view_module": "@jupyter-widgets/controls",
            "_view_module_version": "1.5.0",
            "_view_name": "HTMLView",
            "description": "",
            "description_tooltip": null,
            "layout": "IPY_MODEL_52020c1d379e4559baabc9e26dd14b36",
            "placeholder": "​",
            "style": "IPY_MODEL_8145b7d0d6854548bc68020f0b956dd0",
            "value": " 629/629 [00:00&lt;00:00, 20.3kB/s]"
          }
        },
        "30e36ef13a1441798e5d12de7a1ae6af": {
          "model_module": "@jupyter-widgets/base",
          "model_name": "LayoutModel",
          "model_module_version": "1.2.0",
          "state": {
            "_model_module": "@jupyter-widgets/base",
            "_model_module_version": "1.2.0",
            "_model_name": "LayoutModel",
            "_view_count": null,
            "_view_module": "@jupyter-widgets/base",
            "_view_module_version": "1.2.0",
            "_view_name": "LayoutView",
            "align_content": null,
            "align_items": null,
            "align_self": null,
            "border": null,
            "bottom": null,
            "display": null,
            "flex": null,
            "flex_flow": null,
            "grid_area": null,
            "grid_auto_columns": null,
            "grid_auto_flow": null,
            "grid_auto_rows": null,
            "grid_column": null,
            "grid_gap": null,
            "grid_row": null,
            "grid_template_areas": null,
            "grid_template_columns": null,
            "grid_template_rows": null,
            "height": null,
            "justify_content": null,
            "justify_items": null,
            "left": null,
            "margin": null,
            "max_height": null,
            "max_width": null,
            "min_height": null,
            "min_width": null,
            "object_fit": null,
            "object_position": null,
            "order": null,
            "overflow": null,
            "overflow_x": null,
            "overflow_y": null,
            "padding": null,
            "right": null,
            "top": null,
            "visibility": null,
            "width": null
          }
        },
        "8dd4f62361c7414b9211893ff25bd660": {
          "model_module": "@jupyter-widgets/base",
          "model_name": "LayoutModel",
          "model_module_version": "1.2.0",
          "state": {
            "_model_module": "@jupyter-widgets/base",
            "_model_module_version": "1.2.0",
            "_model_name": "LayoutModel",
            "_view_count": null,
            "_view_module": "@jupyter-widgets/base",
            "_view_module_version": "1.2.0",
            "_view_name": "LayoutView",
            "align_content": null,
            "align_items": null,
            "align_self": null,
            "border": null,
            "bottom": null,
            "display": null,
            "flex": null,
            "flex_flow": null,
            "grid_area": null,
            "grid_auto_columns": null,
            "grid_auto_flow": null,
            "grid_auto_rows": null,
            "grid_column": null,
            "grid_gap": null,
            "grid_row": null,
            "grid_template_areas": null,
            "grid_template_columns": null,
            "grid_template_rows": null,
            "height": null,
            "justify_content": null,
            "justify_items": null,
            "left": null,
            "margin": null,
            "max_height": null,
            "max_width": null,
            "min_height": null,
            "min_width": null,
            "object_fit": null,
            "object_position": null,
            "order": null,
            "overflow": null,
            "overflow_x": null,
            "overflow_y": null,
            "padding": null,
            "right": null,
            "top": null,
            "visibility": null,
            "width": null
          }
        },
        "3f516deb70c647c0b0cfd716fd513f1a": {
          "model_module": "@jupyter-widgets/controls",
          "model_name": "DescriptionStyleModel",
          "model_module_version": "1.5.0",
          "state": {
            "_model_module": "@jupyter-widgets/controls",
            "_model_module_version": "1.5.0",
            "_model_name": "DescriptionStyleModel",
            "_view_count": null,
            "_view_module": "@jupyter-widgets/base",
            "_view_module_version": "1.2.0",
            "_view_name": "StyleView",
            "description_width": ""
          }
        },
        "ed78c45d0f744a40934f7ece09799124": {
          "model_module": "@jupyter-widgets/base",
          "model_name": "LayoutModel",
          "model_module_version": "1.2.0",
          "state": {
            "_model_module": "@jupyter-widgets/base",
            "_model_module_version": "1.2.0",
            "_model_name": "LayoutModel",
            "_view_count": null,
            "_view_module": "@jupyter-widgets/base",
            "_view_module_version": "1.2.0",
            "_view_name": "LayoutView",
            "align_content": null,
            "align_items": null,
            "align_self": null,
            "border": null,
            "bottom": null,
            "display": null,
            "flex": null,
            "flex_flow": null,
            "grid_area": null,
            "grid_auto_columns": null,
            "grid_auto_flow": null,
            "grid_auto_rows": null,
            "grid_column": null,
            "grid_gap": null,
            "grid_row": null,
            "grid_template_areas": null,
            "grid_template_columns": null,
            "grid_template_rows": null,
            "height": null,
            "justify_content": null,
            "justify_items": null,
            "left": null,
            "margin": null,
            "max_height": null,
            "max_width": null,
            "min_height": null,
            "min_width": null,
            "object_fit": null,
            "object_position": null,
            "order": null,
            "overflow": null,
            "overflow_x": null,
            "overflow_y": null,
            "padding": null,
            "right": null,
            "top": null,
            "visibility": null,
            "width": null
          }
        },
        "8a01f3568f854d1cab4beb66b4f4e7a8": {
          "model_module": "@jupyter-widgets/controls",
          "model_name": "ProgressStyleModel",
          "model_module_version": "1.5.0",
          "state": {
            "_model_module": "@jupyter-widgets/controls",
            "_model_module_version": "1.5.0",
            "_model_name": "ProgressStyleModel",
            "_view_count": null,
            "_view_module": "@jupyter-widgets/base",
            "_view_module_version": "1.2.0",
            "_view_name": "StyleView",
            "bar_color": null,
            "description_width": ""
          }
        },
        "52020c1d379e4559baabc9e26dd14b36": {
          "model_module": "@jupyter-widgets/base",
          "model_name": "LayoutModel",
          "model_module_version": "1.2.0",
          "state": {
            "_model_module": "@jupyter-widgets/base",
            "_model_module_version": "1.2.0",
            "_model_name": "LayoutModel",
            "_view_count": null,
            "_view_module": "@jupyter-widgets/base",
            "_view_module_version": "1.2.0",
            "_view_name": "LayoutView",
            "align_content": null,
            "align_items": null,
            "align_self": null,
            "border": null,
            "bottom": null,
            "display": null,
            "flex": null,
            "flex_flow": null,
            "grid_area": null,
            "grid_auto_columns": null,
            "grid_auto_flow": null,
            "grid_auto_rows": null,
            "grid_column": null,
            "grid_gap": null,
            "grid_row": null,
            "grid_template_areas": null,
            "grid_template_columns": null,
            "grid_template_rows": null,
            "height": null,
            "justify_content": null,
            "justify_items": null,
            "left": null,
            "margin": null,
            "max_height": null,
            "max_width": null,
            "min_height": null,
            "min_width": null,
            "object_fit": null,
            "object_position": null,
            "order": null,
            "overflow": null,
            "overflow_x": null,
            "overflow_y": null,
            "padding": null,
            "right": null,
            "top": null,
            "visibility": null,
            "width": null
          }
        },
        "8145b7d0d6854548bc68020f0b956dd0": {
          "model_module": "@jupyter-widgets/controls",
          "model_name": "DescriptionStyleModel",
          "model_module_version": "1.5.0",
          "state": {
            "_model_module": "@jupyter-widgets/controls",
            "_model_module_version": "1.5.0",
            "_model_name": "DescriptionStyleModel",
            "_view_count": null,
            "_view_module": "@jupyter-widgets/base",
            "_view_module_version": "1.2.0",
            "_view_name": "StyleView",
            "description_width": ""
          }
        },
        "63bc081abe2d48f2bc77449850f96c42": {
          "model_module": "@jupyter-widgets/controls",
          "model_name": "HBoxModel",
          "model_module_version": "1.5.0",
          "state": {
            "_dom_classes": [],
            "_model_module": "@jupyter-widgets/controls",
            "_model_module_version": "1.5.0",
            "_model_name": "HBoxModel",
            "_view_count": null,
            "_view_module": "@jupyter-widgets/controls",
            "_view_module_version": "1.5.0",
            "_view_name": "HBoxView",
            "box_style": "",
            "children": [
              "IPY_MODEL_f55543c90903404cba2d13c8ff7bcc99",
              "IPY_MODEL_62ea19c7d3434fe19e5325e4a33425b1",
              "IPY_MODEL_4001f7efd3a74880a73730c71d7485b4"
            ],
            "layout": "IPY_MODEL_57e0435e5acc44a680f3ae88c54e0fcc"
          }
        },
        "f55543c90903404cba2d13c8ff7bcc99": {
          "model_module": "@jupyter-widgets/controls",
          "model_name": "HTMLModel",
          "model_module_version": "1.5.0",
          "state": {
            "_dom_classes": [],
            "_model_module": "@jupyter-widgets/controls",
            "_model_module_version": "1.5.0",
            "_model_name": "HTMLModel",
            "_view_count": null,
            "_view_module": "@jupyter-widgets/controls",
            "_view_module_version": "1.5.0",
            "_view_name": "HTMLView",
            "description": "",
            "description_tooltip": null,
            "layout": "IPY_MODEL_69f79222b87040fe90539e490d7a2b3a",
            "placeholder": "​",
            "style": "IPY_MODEL_e04f0bd47da148eeb72fe7d67f4a1ff9",
            "value": "model.safetensors: 100%"
          }
        },
        "62ea19c7d3434fe19e5325e4a33425b1": {
          "model_module": "@jupyter-widgets/controls",
          "model_name": "FloatProgressModel",
          "model_module_version": "1.5.0",
          "state": {
            "_dom_classes": [],
            "_model_module": "@jupyter-widgets/controls",
            "_model_module_version": "1.5.0",
            "_model_name": "FloatProgressModel",
            "_view_count": null,
            "_view_module": "@jupyter-widgets/controls",
            "_view_module_version": "1.5.0",
            "_view_name": "ProgressView",
            "bar_style": "success",
            "description": "",
            "description_tooltip": null,
            "layout": "IPY_MODEL_67c523f1d6d44482b51c8d11ff0316e5",
            "max": 267832558,
            "min": 0,
            "orientation": "horizontal",
            "style": "IPY_MODEL_423695f1148a4d6186a3518e644d2ef9",
            "value": 267832558
          }
        },
        "4001f7efd3a74880a73730c71d7485b4": {
          "model_module": "@jupyter-widgets/controls",
          "model_name": "HTMLModel",
          "model_module_version": "1.5.0",
          "state": {
            "_dom_classes": [],
            "_model_module": "@jupyter-widgets/controls",
            "_model_module_version": "1.5.0",
            "_model_name": "HTMLModel",
            "_view_count": null,
            "_view_module": "@jupyter-widgets/controls",
            "_view_module_version": "1.5.0",
            "_view_name": "HTMLView",
            "description": "",
            "description_tooltip": null,
            "layout": "IPY_MODEL_c1c11ab0f26e46d3a2990524a5211e0c",
            "placeholder": "​",
            "style": "IPY_MODEL_aeca73030c3744c6945cd3df8ea680e8",
            "value": " 268M/268M [00:03&lt;00:00, 108MB/s]"
          }
        },
        "57e0435e5acc44a680f3ae88c54e0fcc": {
          "model_module": "@jupyter-widgets/base",
          "model_name": "LayoutModel",
          "model_module_version": "1.2.0",
          "state": {
            "_model_module": "@jupyter-widgets/base",
            "_model_module_version": "1.2.0",
            "_model_name": "LayoutModel",
            "_view_count": null,
            "_view_module": "@jupyter-widgets/base",
            "_view_module_version": "1.2.0",
            "_view_name": "LayoutView",
            "align_content": null,
            "align_items": null,
            "align_self": null,
            "border": null,
            "bottom": null,
            "display": null,
            "flex": null,
            "flex_flow": null,
            "grid_area": null,
            "grid_auto_columns": null,
            "grid_auto_flow": null,
            "grid_auto_rows": null,
            "grid_column": null,
            "grid_gap": null,
            "grid_row": null,
            "grid_template_areas": null,
            "grid_template_columns": null,
            "grid_template_rows": null,
            "height": null,
            "justify_content": null,
            "justify_items": null,
            "left": null,
            "margin": null,
            "max_height": null,
            "max_width": null,
            "min_height": null,
            "min_width": null,
            "object_fit": null,
            "object_position": null,
            "order": null,
            "overflow": null,
            "overflow_x": null,
            "overflow_y": null,
            "padding": null,
            "right": null,
            "top": null,
            "visibility": null,
            "width": null
          }
        },
        "69f79222b87040fe90539e490d7a2b3a": {
          "model_module": "@jupyter-widgets/base",
          "model_name": "LayoutModel",
          "model_module_version": "1.2.0",
          "state": {
            "_model_module": "@jupyter-widgets/base",
            "_model_module_version": "1.2.0",
            "_model_name": "LayoutModel",
            "_view_count": null,
            "_view_module": "@jupyter-widgets/base",
            "_view_module_version": "1.2.0",
            "_view_name": "LayoutView",
            "align_content": null,
            "align_items": null,
            "align_self": null,
            "border": null,
            "bottom": null,
            "display": null,
            "flex": null,
            "flex_flow": null,
            "grid_area": null,
            "grid_auto_columns": null,
            "grid_auto_flow": null,
            "grid_auto_rows": null,
            "grid_column": null,
            "grid_gap": null,
            "grid_row": null,
            "grid_template_areas": null,
            "grid_template_columns": null,
            "grid_template_rows": null,
            "height": null,
            "justify_content": null,
            "justify_items": null,
            "left": null,
            "margin": null,
            "max_height": null,
            "max_width": null,
            "min_height": null,
            "min_width": null,
            "object_fit": null,
            "object_position": null,
            "order": null,
            "overflow": null,
            "overflow_x": null,
            "overflow_y": null,
            "padding": null,
            "right": null,
            "top": null,
            "visibility": null,
            "width": null
          }
        },
        "e04f0bd47da148eeb72fe7d67f4a1ff9": {
          "model_module": "@jupyter-widgets/controls",
          "model_name": "DescriptionStyleModel",
          "model_module_version": "1.5.0",
          "state": {
            "_model_module": "@jupyter-widgets/controls",
            "_model_module_version": "1.5.0",
            "_model_name": "DescriptionStyleModel",
            "_view_count": null,
            "_view_module": "@jupyter-widgets/base",
            "_view_module_version": "1.2.0",
            "_view_name": "StyleView",
            "description_width": ""
          }
        },
        "67c523f1d6d44482b51c8d11ff0316e5": {
          "model_module": "@jupyter-widgets/base",
          "model_name": "LayoutModel",
          "model_module_version": "1.2.0",
          "state": {
            "_model_module": "@jupyter-widgets/base",
            "_model_module_version": "1.2.0",
            "_model_name": "LayoutModel",
            "_view_count": null,
            "_view_module": "@jupyter-widgets/base",
            "_view_module_version": "1.2.0",
            "_view_name": "LayoutView",
            "align_content": null,
            "align_items": null,
            "align_self": null,
            "border": null,
            "bottom": null,
            "display": null,
            "flex": null,
            "flex_flow": null,
            "grid_area": null,
            "grid_auto_columns": null,
            "grid_auto_flow": null,
            "grid_auto_rows": null,
            "grid_column": null,
            "grid_gap": null,
            "grid_row": null,
            "grid_template_areas": null,
            "grid_template_columns": null,
            "grid_template_rows": null,
            "height": null,
            "justify_content": null,
            "justify_items": null,
            "left": null,
            "margin": null,
            "max_height": null,
            "max_width": null,
            "min_height": null,
            "min_width": null,
            "object_fit": null,
            "object_position": null,
            "order": null,
            "overflow": null,
            "overflow_x": null,
            "overflow_y": null,
            "padding": null,
            "right": null,
            "top": null,
            "visibility": null,
            "width": null
          }
        },
        "423695f1148a4d6186a3518e644d2ef9": {
          "model_module": "@jupyter-widgets/controls",
          "model_name": "ProgressStyleModel",
          "model_module_version": "1.5.0",
          "state": {
            "_model_module": "@jupyter-widgets/controls",
            "_model_module_version": "1.5.0",
            "_model_name": "ProgressStyleModel",
            "_view_count": null,
            "_view_module": "@jupyter-widgets/base",
            "_view_module_version": "1.2.0",
            "_view_name": "StyleView",
            "bar_color": null,
            "description_width": ""
          }
        },
        "c1c11ab0f26e46d3a2990524a5211e0c": {
          "model_module": "@jupyter-widgets/base",
          "model_name": "LayoutModel",
          "model_module_version": "1.2.0",
          "state": {
            "_model_module": "@jupyter-widgets/base",
            "_model_module_version": "1.2.0",
            "_model_name": "LayoutModel",
            "_view_count": null,
            "_view_module": "@jupyter-widgets/base",
            "_view_module_version": "1.2.0",
            "_view_name": "LayoutView",
            "align_content": null,
            "align_items": null,
            "align_self": null,
            "border": null,
            "bottom": null,
            "display": null,
            "flex": null,
            "flex_flow": null,
            "grid_area": null,
            "grid_auto_columns": null,
            "grid_auto_flow": null,
            "grid_auto_rows": null,
            "grid_column": null,
            "grid_gap": null,
            "grid_row": null,
            "grid_template_areas": null,
            "grid_template_columns": null,
            "grid_template_rows": null,
            "height": null,
            "justify_content": null,
            "justify_items": null,
            "left": null,
            "margin": null,
            "max_height": null,
            "max_width": null,
            "min_height": null,
            "min_width": null,
            "object_fit": null,
            "object_position": null,
            "order": null,
            "overflow": null,
            "overflow_x": null,
            "overflow_y": null,
            "padding": null,
            "right": null,
            "top": null,
            "visibility": null,
            "width": null
          }
        },
        "aeca73030c3744c6945cd3df8ea680e8": {
          "model_module": "@jupyter-widgets/controls",
          "model_name": "DescriptionStyleModel",
          "model_module_version": "1.5.0",
          "state": {
            "_model_module": "@jupyter-widgets/controls",
            "_model_module_version": "1.5.0",
            "_model_name": "DescriptionStyleModel",
            "_view_count": null,
            "_view_module": "@jupyter-widgets/base",
            "_view_module_version": "1.2.0",
            "_view_name": "StyleView",
            "description_width": ""
          }
        },
        "fabca40d3e1249fe9b560bb4befc94c8": {
          "model_module": "@jupyter-widgets/controls",
          "model_name": "HBoxModel",
          "model_module_version": "1.5.0",
          "state": {
            "_dom_classes": [],
            "_model_module": "@jupyter-widgets/controls",
            "_model_module_version": "1.5.0",
            "_model_name": "HBoxModel",
            "_view_count": null,
            "_view_module": "@jupyter-widgets/controls",
            "_view_module_version": "1.5.0",
            "_view_name": "HBoxView",
            "box_style": "",
            "children": [
              "IPY_MODEL_011da64dd0174737b5f9c228241d2764",
              "IPY_MODEL_9779460b9f2d40faa796cadf9e8e6678",
              "IPY_MODEL_b873dfb7510841419f886d8a663c9eef"
            ],
            "layout": "IPY_MODEL_1415bcf72c994448943e7d98793cc78e"
          }
        },
        "011da64dd0174737b5f9c228241d2764": {
          "model_module": "@jupyter-widgets/controls",
          "model_name": "HTMLModel",
          "model_module_version": "1.5.0",
          "state": {
            "_dom_classes": [],
            "_model_module": "@jupyter-widgets/controls",
            "_model_module_version": "1.5.0",
            "_model_name": "HTMLModel",
            "_view_count": null,
            "_view_module": "@jupyter-widgets/controls",
            "_view_module_version": "1.5.0",
            "_view_name": "HTMLView",
            "description": "",
            "description_tooltip": null,
            "layout": "IPY_MODEL_734f7061c4ce49babe565999533d7079",
            "placeholder": "​",
            "style": "IPY_MODEL_8a76883034d04f4792a87a1528b88bfe",
            "value": "tokenizer_config.json: 100%"
          }
        },
        "9779460b9f2d40faa796cadf9e8e6678": {
          "model_module": "@jupyter-widgets/controls",
          "model_name": "FloatProgressModel",
          "model_module_version": "1.5.0",
          "state": {
            "_dom_classes": [],
            "_model_module": "@jupyter-widgets/controls",
            "_model_module_version": "1.5.0",
            "_model_name": "FloatProgressModel",
            "_view_count": null,
            "_view_module": "@jupyter-widgets/controls",
            "_view_module_version": "1.5.0",
            "_view_name": "ProgressView",
            "bar_style": "success",
            "description": "",
            "description_tooltip": null,
            "layout": "IPY_MODEL_b636e15e927d489cb049a40f2164ae09",
            "max": 48,
            "min": 0,
            "orientation": "horizontal",
            "style": "IPY_MODEL_35b89b3bb0964b1994c91cc3419e66ec",
            "value": 48
          }
        },
        "b873dfb7510841419f886d8a663c9eef": {
          "model_module": "@jupyter-widgets/controls",
          "model_name": "HTMLModel",
          "model_module_version": "1.5.0",
          "state": {
            "_dom_classes": [],
            "_model_module": "@jupyter-widgets/controls",
            "_model_module_version": "1.5.0",
            "_model_name": "HTMLModel",
            "_view_count": null,
            "_view_module": "@jupyter-widgets/controls",
            "_view_module_version": "1.5.0",
            "_view_name": "HTMLView",
            "description": "",
            "description_tooltip": null,
            "layout": "IPY_MODEL_73d6f283aa3b47f59c23a3d1d1920087",
            "placeholder": "​",
            "style": "IPY_MODEL_0e8583a3492b4e34bbf17bf06ea2bf37",
            "value": " 48.0/48.0 [00:00&lt;00:00, 1.17kB/s]"
          }
        },
        "1415bcf72c994448943e7d98793cc78e": {
          "model_module": "@jupyter-widgets/base",
          "model_name": "LayoutModel",
          "model_module_version": "1.2.0",
          "state": {
            "_model_module": "@jupyter-widgets/base",
            "_model_module_version": "1.2.0",
            "_model_name": "LayoutModel",
            "_view_count": null,
            "_view_module": "@jupyter-widgets/base",
            "_view_module_version": "1.2.0",
            "_view_name": "LayoutView",
            "align_content": null,
            "align_items": null,
            "align_self": null,
            "border": null,
            "bottom": null,
            "display": null,
            "flex": null,
            "flex_flow": null,
            "grid_area": null,
            "grid_auto_columns": null,
            "grid_auto_flow": null,
            "grid_auto_rows": null,
            "grid_column": null,
            "grid_gap": null,
            "grid_row": null,
            "grid_template_areas": null,
            "grid_template_columns": null,
            "grid_template_rows": null,
            "height": null,
            "justify_content": null,
            "justify_items": null,
            "left": null,
            "margin": null,
            "max_height": null,
            "max_width": null,
            "min_height": null,
            "min_width": null,
            "object_fit": null,
            "object_position": null,
            "order": null,
            "overflow": null,
            "overflow_x": null,
            "overflow_y": null,
            "padding": null,
            "right": null,
            "top": null,
            "visibility": null,
            "width": null
          }
        },
        "734f7061c4ce49babe565999533d7079": {
          "model_module": "@jupyter-widgets/base",
          "model_name": "LayoutModel",
          "model_module_version": "1.2.0",
          "state": {
            "_model_module": "@jupyter-widgets/base",
            "_model_module_version": "1.2.0",
            "_model_name": "LayoutModel",
            "_view_count": null,
            "_view_module": "@jupyter-widgets/base",
            "_view_module_version": "1.2.0",
            "_view_name": "LayoutView",
            "align_content": null,
            "align_items": null,
            "align_self": null,
            "border": null,
            "bottom": null,
            "display": null,
            "flex": null,
            "flex_flow": null,
            "grid_area": null,
            "grid_auto_columns": null,
            "grid_auto_flow": null,
            "grid_auto_rows": null,
            "grid_column": null,
            "grid_gap": null,
            "grid_row": null,
            "grid_template_areas": null,
            "grid_template_columns": null,
            "grid_template_rows": null,
            "height": null,
            "justify_content": null,
            "justify_items": null,
            "left": null,
            "margin": null,
            "max_height": null,
            "max_width": null,
            "min_height": null,
            "min_width": null,
            "object_fit": null,
            "object_position": null,
            "order": null,
            "overflow": null,
            "overflow_x": null,
            "overflow_y": null,
            "padding": null,
            "right": null,
            "top": null,
            "visibility": null,
            "width": null
          }
        },
        "8a76883034d04f4792a87a1528b88bfe": {
          "model_module": "@jupyter-widgets/controls",
          "model_name": "DescriptionStyleModel",
          "model_module_version": "1.5.0",
          "state": {
            "_model_module": "@jupyter-widgets/controls",
            "_model_module_version": "1.5.0",
            "_model_name": "DescriptionStyleModel",
            "_view_count": null,
            "_view_module": "@jupyter-widgets/base",
            "_view_module_version": "1.2.0",
            "_view_name": "StyleView",
            "description_width": ""
          }
        },
        "b636e15e927d489cb049a40f2164ae09": {
          "model_module": "@jupyter-widgets/base",
          "model_name": "LayoutModel",
          "model_module_version": "1.2.0",
          "state": {
            "_model_module": "@jupyter-widgets/base",
            "_model_module_version": "1.2.0",
            "_model_name": "LayoutModel",
            "_view_count": null,
            "_view_module": "@jupyter-widgets/base",
            "_view_module_version": "1.2.0",
            "_view_name": "LayoutView",
            "align_content": null,
            "align_items": null,
            "align_self": null,
            "border": null,
            "bottom": null,
            "display": null,
            "flex": null,
            "flex_flow": null,
            "grid_area": null,
            "grid_auto_columns": null,
            "grid_auto_flow": null,
            "grid_auto_rows": null,
            "grid_column": null,
            "grid_gap": null,
            "grid_row": null,
            "grid_template_areas": null,
            "grid_template_columns": null,
            "grid_template_rows": null,
            "height": null,
            "justify_content": null,
            "justify_items": null,
            "left": null,
            "margin": null,
            "max_height": null,
            "max_width": null,
            "min_height": null,
            "min_width": null,
            "object_fit": null,
            "object_position": null,
            "order": null,
            "overflow": null,
            "overflow_x": null,
            "overflow_y": null,
            "padding": null,
            "right": null,
            "top": null,
            "visibility": null,
            "width": null
          }
        },
        "35b89b3bb0964b1994c91cc3419e66ec": {
          "model_module": "@jupyter-widgets/controls",
          "model_name": "ProgressStyleModel",
          "model_module_version": "1.5.0",
          "state": {
            "_model_module": "@jupyter-widgets/controls",
            "_model_module_version": "1.5.0",
            "_model_name": "ProgressStyleModel",
            "_view_count": null,
            "_view_module": "@jupyter-widgets/base",
            "_view_module_version": "1.2.0",
            "_view_name": "StyleView",
            "bar_color": null,
            "description_width": ""
          }
        },
        "73d6f283aa3b47f59c23a3d1d1920087": {
          "model_module": "@jupyter-widgets/base",
          "model_name": "LayoutModel",
          "model_module_version": "1.2.0",
          "state": {
            "_model_module": "@jupyter-widgets/base",
            "_model_module_version": "1.2.0",
            "_model_name": "LayoutModel",
            "_view_count": null,
            "_view_module": "@jupyter-widgets/base",
            "_view_module_version": "1.2.0",
            "_view_name": "LayoutView",
            "align_content": null,
            "align_items": null,
            "align_self": null,
            "border": null,
            "bottom": null,
            "display": null,
            "flex": null,
            "flex_flow": null,
            "grid_area": null,
            "grid_auto_columns": null,
            "grid_auto_flow": null,
            "grid_auto_rows": null,
            "grid_column": null,
            "grid_gap": null,
            "grid_row": null,
            "grid_template_areas": null,
            "grid_template_columns": null,
            "grid_template_rows": null,
            "height": null,
            "justify_content": null,
            "justify_items": null,
            "left": null,
            "margin": null,
            "max_height": null,
            "max_width": null,
            "min_height": null,
            "min_width": null,
            "object_fit": null,
            "object_position": null,
            "order": null,
            "overflow": null,
            "overflow_x": null,
            "overflow_y": null,
            "padding": null,
            "right": null,
            "top": null,
            "visibility": null,
            "width": null
          }
        },
        "0e8583a3492b4e34bbf17bf06ea2bf37": {
          "model_module": "@jupyter-widgets/controls",
          "model_name": "DescriptionStyleModel",
          "model_module_version": "1.5.0",
          "state": {
            "_model_module": "@jupyter-widgets/controls",
            "_model_module_version": "1.5.0",
            "_model_name": "DescriptionStyleModel",
            "_view_count": null,
            "_view_module": "@jupyter-widgets/base",
            "_view_module_version": "1.2.0",
            "_view_name": "StyleView",
            "description_width": ""
          }
        },
        "7a039881e4ca4c80a7e2fbb6ee7bdec5": {
          "model_module": "@jupyter-widgets/controls",
          "model_name": "HBoxModel",
          "model_module_version": "1.5.0",
          "state": {
            "_dom_classes": [],
            "_model_module": "@jupyter-widgets/controls",
            "_model_module_version": "1.5.0",
            "_model_name": "HBoxModel",
            "_view_count": null,
            "_view_module": "@jupyter-widgets/controls",
            "_view_module_version": "1.5.0",
            "_view_name": "HBoxView",
            "box_style": "",
            "children": [
              "IPY_MODEL_55cf6789a54641708f22318056b96d09",
              "IPY_MODEL_111a3cf50d724d64a4710b97e0a7ea22",
              "IPY_MODEL_57a7615511064f34939216d85d78fbe6"
            ],
            "layout": "IPY_MODEL_5b02d4a99e084fcd97f851bc0cae4867"
          }
        },
        "55cf6789a54641708f22318056b96d09": {
          "model_module": "@jupyter-widgets/controls",
          "model_name": "HTMLModel",
          "model_module_version": "1.5.0",
          "state": {
            "_dom_classes": [],
            "_model_module": "@jupyter-widgets/controls",
            "_model_module_version": "1.5.0",
            "_model_name": "HTMLModel",
            "_view_count": null,
            "_view_module": "@jupyter-widgets/controls",
            "_view_module_version": "1.5.0",
            "_view_name": "HTMLView",
            "description": "",
            "description_tooltip": null,
            "layout": "IPY_MODEL_cafc69f4b27f4f9390efe7f715331ec3",
            "placeholder": "​",
            "style": "IPY_MODEL_b1e437b98f734607a25bee117d014df5",
            "value": "vocab.txt: 100%"
          }
        },
        "111a3cf50d724d64a4710b97e0a7ea22": {
          "model_module": "@jupyter-widgets/controls",
          "model_name": "FloatProgressModel",
          "model_module_version": "1.5.0",
          "state": {
            "_dom_classes": [],
            "_model_module": "@jupyter-widgets/controls",
            "_model_module_version": "1.5.0",
            "_model_name": "FloatProgressModel",
            "_view_count": null,
            "_view_module": "@jupyter-widgets/controls",
            "_view_module_version": "1.5.0",
            "_view_name": "ProgressView",
            "bar_style": "success",
            "description": "",
            "description_tooltip": null,
            "layout": "IPY_MODEL_7f295c789d934775895856eb684be0e6",
            "max": 231508,
            "min": 0,
            "orientation": "horizontal",
            "style": "IPY_MODEL_59b5d2e156cb43b7b544ac9c8494a911",
            "value": 231508
          }
        },
        "57a7615511064f34939216d85d78fbe6": {
          "model_module": "@jupyter-widgets/controls",
          "model_name": "HTMLModel",
          "model_module_version": "1.5.0",
          "state": {
            "_dom_classes": [],
            "_model_module": "@jupyter-widgets/controls",
            "_model_module_version": "1.5.0",
            "_model_name": "HTMLModel",
            "_view_count": null,
            "_view_module": "@jupyter-widgets/controls",
            "_view_module_version": "1.5.0",
            "_view_name": "HTMLView",
            "description": "",
            "description_tooltip": null,
            "layout": "IPY_MODEL_b3893cb801af4a31a124734fb05e3fe8",
            "placeholder": "​",
            "style": "IPY_MODEL_b56b76bda4c64bf3b156f6f0e0da8705",
            "value": " 232k/232k [00:00&lt;00:00, 5.03MB/s]"
          }
        },
        "5b02d4a99e084fcd97f851bc0cae4867": {
          "model_module": "@jupyter-widgets/base",
          "model_name": "LayoutModel",
          "model_module_version": "1.2.0",
          "state": {
            "_model_module": "@jupyter-widgets/base",
            "_model_module_version": "1.2.0",
            "_model_name": "LayoutModel",
            "_view_count": null,
            "_view_module": "@jupyter-widgets/base",
            "_view_module_version": "1.2.0",
            "_view_name": "LayoutView",
            "align_content": null,
            "align_items": null,
            "align_self": null,
            "border": null,
            "bottom": null,
            "display": null,
            "flex": null,
            "flex_flow": null,
            "grid_area": null,
            "grid_auto_columns": null,
            "grid_auto_flow": null,
            "grid_auto_rows": null,
            "grid_column": null,
            "grid_gap": null,
            "grid_row": null,
            "grid_template_areas": null,
            "grid_template_columns": null,
            "grid_template_rows": null,
            "height": null,
            "justify_content": null,
            "justify_items": null,
            "left": null,
            "margin": null,
            "max_height": null,
            "max_width": null,
            "min_height": null,
            "min_width": null,
            "object_fit": null,
            "object_position": null,
            "order": null,
            "overflow": null,
            "overflow_x": null,
            "overflow_y": null,
            "padding": null,
            "right": null,
            "top": null,
            "visibility": null,
            "width": null
          }
        },
        "cafc69f4b27f4f9390efe7f715331ec3": {
          "model_module": "@jupyter-widgets/base",
          "model_name": "LayoutModel",
          "model_module_version": "1.2.0",
          "state": {
            "_model_module": "@jupyter-widgets/base",
            "_model_module_version": "1.2.0",
            "_model_name": "LayoutModel",
            "_view_count": null,
            "_view_module": "@jupyter-widgets/base",
            "_view_module_version": "1.2.0",
            "_view_name": "LayoutView",
            "align_content": null,
            "align_items": null,
            "align_self": null,
            "border": null,
            "bottom": null,
            "display": null,
            "flex": null,
            "flex_flow": null,
            "grid_area": null,
            "grid_auto_columns": null,
            "grid_auto_flow": null,
            "grid_auto_rows": null,
            "grid_column": null,
            "grid_gap": null,
            "grid_row": null,
            "grid_template_areas": null,
            "grid_template_columns": null,
            "grid_template_rows": null,
            "height": null,
            "justify_content": null,
            "justify_items": null,
            "left": null,
            "margin": null,
            "max_height": null,
            "max_width": null,
            "min_height": null,
            "min_width": null,
            "object_fit": null,
            "object_position": null,
            "order": null,
            "overflow": null,
            "overflow_x": null,
            "overflow_y": null,
            "padding": null,
            "right": null,
            "top": null,
            "visibility": null,
            "width": null
          }
        },
        "b1e437b98f734607a25bee117d014df5": {
          "model_module": "@jupyter-widgets/controls",
          "model_name": "DescriptionStyleModel",
          "model_module_version": "1.5.0",
          "state": {
            "_model_module": "@jupyter-widgets/controls",
            "_model_module_version": "1.5.0",
            "_model_name": "DescriptionStyleModel",
            "_view_count": null,
            "_view_module": "@jupyter-widgets/base",
            "_view_module_version": "1.2.0",
            "_view_name": "StyleView",
            "description_width": ""
          }
        },
        "7f295c789d934775895856eb684be0e6": {
          "model_module": "@jupyter-widgets/base",
          "model_name": "LayoutModel",
          "model_module_version": "1.2.0",
          "state": {
            "_model_module": "@jupyter-widgets/base",
            "_model_module_version": "1.2.0",
            "_model_name": "LayoutModel",
            "_view_count": null,
            "_view_module": "@jupyter-widgets/base",
            "_view_module_version": "1.2.0",
            "_view_name": "LayoutView",
            "align_content": null,
            "align_items": null,
            "align_self": null,
            "border": null,
            "bottom": null,
            "display": null,
            "flex": null,
            "flex_flow": null,
            "grid_area": null,
            "grid_auto_columns": null,
            "grid_auto_flow": null,
            "grid_auto_rows": null,
            "grid_column": null,
            "grid_gap": null,
            "grid_row": null,
            "grid_template_areas": null,
            "grid_template_columns": null,
            "grid_template_rows": null,
            "height": null,
            "justify_content": null,
            "justify_items": null,
            "left": null,
            "margin": null,
            "max_height": null,
            "max_width": null,
            "min_height": null,
            "min_width": null,
            "object_fit": null,
            "object_position": null,
            "order": null,
            "overflow": null,
            "overflow_x": null,
            "overflow_y": null,
            "padding": null,
            "right": null,
            "top": null,
            "visibility": null,
            "width": null
          }
        },
        "59b5d2e156cb43b7b544ac9c8494a911": {
          "model_module": "@jupyter-widgets/controls",
          "model_name": "ProgressStyleModel",
          "model_module_version": "1.5.0",
          "state": {
            "_model_module": "@jupyter-widgets/controls",
            "_model_module_version": "1.5.0",
            "_model_name": "ProgressStyleModel",
            "_view_count": null,
            "_view_module": "@jupyter-widgets/base",
            "_view_module_version": "1.2.0",
            "_view_name": "StyleView",
            "bar_color": null,
            "description_width": ""
          }
        },
        "b3893cb801af4a31a124734fb05e3fe8": {
          "model_module": "@jupyter-widgets/base",
          "model_name": "LayoutModel",
          "model_module_version": "1.2.0",
          "state": {
            "_model_module": "@jupyter-widgets/base",
            "_model_module_version": "1.2.0",
            "_model_name": "LayoutModel",
            "_view_count": null,
            "_view_module": "@jupyter-widgets/base",
            "_view_module_version": "1.2.0",
            "_view_name": "LayoutView",
            "align_content": null,
            "align_items": null,
            "align_self": null,
            "border": null,
            "bottom": null,
            "display": null,
            "flex": null,
            "flex_flow": null,
            "grid_area": null,
            "grid_auto_columns": null,
            "grid_auto_flow": null,
            "grid_auto_rows": null,
            "grid_column": null,
            "grid_gap": null,
            "grid_row": null,
            "grid_template_areas": null,
            "grid_template_columns": null,
            "grid_template_rows": null,
            "height": null,
            "justify_content": null,
            "justify_items": null,
            "left": null,
            "margin": null,
            "max_height": null,
            "max_width": null,
            "min_height": null,
            "min_width": null,
            "object_fit": null,
            "object_position": null,
            "order": null,
            "overflow": null,
            "overflow_x": null,
            "overflow_y": null,
            "padding": null,
            "right": null,
            "top": null,
            "visibility": null,
            "width": null
          }
        },
        "b56b76bda4c64bf3b156f6f0e0da8705": {
          "model_module": "@jupyter-widgets/controls",
          "model_name": "DescriptionStyleModel",
          "model_module_version": "1.5.0",
          "state": {
            "_model_module": "@jupyter-widgets/controls",
            "_model_module_version": "1.5.0",
            "_model_name": "DescriptionStyleModel",
            "_view_count": null,
            "_view_module": "@jupyter-widgets/base",
            "_view_module_version": "1.2.0",
            "_view_name": "StyleView",
            "description_width": ""
          }
        }
      }
    }
  },
  "cells": [
    {
      "cell_type": "markdown",
      "metadata": {
        "id": "view-in-github",
        "colab_type": "text"
      },
      "source": [
        "<a href=\"https://colab.research.google.com/github/LeelaSathwika/SentimentAnalysis/blob/main/Assessment.ipynb\" target=\"_parent\"><img src=\"https://colab.research.google.com/assets/colab-badge.svg\" alt=\"Open In Colab\"/></a>"
      ]
    },
    {
      "cell_type": "markdown",
      "source": [
        "Install Libraries and load the dataset from the nltk"
      ],
      "metadata": {
        "id": "XMMbUDS7SVLh"
      }
    },
    {
      "cell_type": "code",
      "source": [
        "!pip install vaderSentiment transformers textblob\n",
        "\n",
        "import nltk\n",
        "nltk.download('twitter_samples')\n",
        "nltk.download('punkt')\n",
        "nltk.download('stopwords')\n",
        "nltk.download('wordnet')"
      ],
      "metadata": {
        "colab": {
          "base_uri": "https://localhost:8080/"
        },
        "id": "5-Fotxz-uZ_H",
        "outputId": "644c325e-ee75-477d-beff-f5085628fd7f"
      },
      "execution_count": 2,
      "outputs": [
        {
          "output_type": "stream",
          "name": "stdout",
          "text": [
            "Collecting vaderSentiment\n",
            "  Downloading vaderSentiment-3.3.2-py2.py3-none-any.whl.metadata (572 bytes)\n",
            "Requirement already satisfied: transformers in /usr/local/lib/python3.12/dist-packages (4.56.1)\n",
            "Requirement already satisfied: textblob in /usr/local/lib/python3.12/dist-packages (0.19.0)\n",
            "Requirement already satisfied: requests in /usr/local/lib/python3.12/dist-packages (from vaderSentiment) (2.32.4)\n",
            "Requirement already satisfied: filelock in /usr/local/lib/python3.12/dist-packages (from transformers) (3.19.1)\n",
            "Requirement already satisfied: huggingface-hub<1.0,>=0.34.0 in /usr/local/lib/python3.12/dist-packages (from transformers) (0.35.0)\n",
            "Requirement already satisfied: numpy>=1.17 in /usr/local/lib/python3.12/dist-packages (from transformers) (2.0.2)\n",
            "Requirement already satisfied: packaging>=20.0 in /usr/local/lib/python3.12/dist-packages (from transformers) (25.0)\n",
            "Requirement already satisfied: pyyaml>=5.1 in /usr/local/lib/python3.12/dist-packages (from transformers) (6.0.2)\n",
            "Requirement already satisfied: regex!=2019.12.17 in /usr/local/lib/python3.12/dist-packages (from transformers) (2024.11.6)\n",
            "Requirement already satisfied: tokenizers<=0.23.0,>=0.22.0 in /usr/local/lib/python3.12/dist-packages (from transformers) (0.22.0)\n",
            "Requirement already satisfied: safetensors>=0.4.3 in /usr/local/lib/python3.12/dist-packages (from transformers) (0.6.2)\n",
            "Requirement already satisfied: tqdm>=4.27 in /usr/local/lib/python3.12/dist-packages (from transformers) (4.67.1)\n",
            "Requirement already satisfied: nltk>=3.9 in /usr/local/lib/python3.12/dist-packages (from textblob) (3.9.1)\n",
            "Requirement already satisfied: fsspec>=2023.5.0 in /usr/local/lib/python3.12/dist-packages (from huggingface-hub<1.0,>=0.34.0->transformers) (2025.3.0)\n",
            "Requirement already satisfied: typing-extensions>=3.7.4.3 in /usr/local/lib/python3.12/dist-packages (from huggingface-hub<1.0,>=0.34.0->transformers) (4.15.0)\n",
            "Requirement already satisfied: hf-xet<2.0.0,>=1.1.3 in /usr/local/lib/python3.12/dist-packages (from huggingface-hub<1.0,>=0.34.0->transformers) (1.1.10)\n",
            "Requirement already satisfied: click in /usr/local/lib/python3.12/dist-packages (from nltk>=3.9->textblob) (8.2.1)\n",
            "Requirement already satisfied: joblib in /usr/local/lib/python3.12/dist-packages (from nltk>=3.9->textblob) (1.5.2)\n",
            "Requirement already satisfied: charset_normalizer<4,>=2 in /usr/local/lib/python3.12/dist-packages (from requests->vaderSentiment) (3.4.3)\n",
            "Requirement already satisfied: idna<4,>=2.5 in /usr/local/lib/python3.12/dist-packages (from requests->vaderSentiment) (3.10)\n",
            "Requirement already satisfied: urllib3<3,>=1.21.1 in /usr/local/lib/python3.12/dist-packages (from requests->vaderSentiment) (2.5.0)\n",
            "Requirement already satisfied: certifi>=2017.4.17 in /usr/local/lib/python3.12/dist-packages (from requests->vaderSentiment) (2025.8.3)\n",
            "Downloading vaderSentiment-3.3.2-py2.py3-none-any.whl (125 kB)\n",
            "\u001b[2K   \u001b[90m━━━━━━━━━━━━━━━━━━━━━━━━━━━━━━━━━━━━━━━━\u001b[0m \u001b[32m126.0/126.0 kB\u001b[0m \u001b[31m7.5 MB/s\u001b[0m eta \u001b[36m0:00:00\u001b[0m\n",
            "\u001b[?25hInstalling collected packages: vaderSentiment\n",
            "Successfully installed vaderSentiment-3.3.2\n"
          ]
        },
        {
          "output_type": "stream",
          "name": "stderr",
          "text": [
            "[nltk_data] Downloading package twitter_samples to /root/nltk_data...\n",
            "[nltk_data]   Unzipping corpora/twitter_samples.zip.\n",
            "[nltk_data] Downloading package punkt to /root/nltk_data...\n",
            "[nltk_data]   Unzipping tokenizers/punkt.zip.\n",
            "[nltk_data] Downloading package stopwords to /root/nltk_data...\n",
            "[nltk_data]   Unzipping corpora/stopwords.zip.\n",
            "[nltk_data] Downloading package wordnet to /root/nltk_data...\n"
          ]
        },
        {
          "output_type": "execute_result",
          "data": {
            "text/plain": [
              "True"
            ]
          },
          "metadata": {},
          "execution_count": 2
        }
      ]
    },
    {
      "cell_type": "markdown",
      "source": [
        "Load the nltk-twitter samples data"
      ],
      "metadata": {
        "id": "eVC2oTqdSe2B"
      }
    },
    {
      "cell_type": "code",
      "source": [
        "from nltk.corpus import twitter_samples, stopwords, wordnet\n",
        "from nltk.tokenize import word_tokenize\n",
        "from nltk.stem import PorterStemmer, WordNetLemmatizer\n",
        "from nltk.util import ngrams\n",
        "import pandas as pd\n",
        "import re"
      ],
      "metadata": {
        "id": "mwCcK_63ugWq"
      },
      "execution_count": 3,
      "outputs": []
    },
    {
      "cell_type": "code",
      "source": [
        "from vaderSentiment.vaderSentiment import SentimentIntensityAnalyzer\n",
        "from textblob import TextBlob\n",
        "from transformers import pipeline"
      ],
      "metadata": {
        "id": "8QyVDc5mujfa"
      },
      "execution_count": 4,
      "outputs": []
    },
    {
      "cell_type": "code",
      "source": [
        "import matplotlib.pyplot as plt\n",
        "import seaborn as sns"
      ],
      "metadata": {
        "id": "atQfX060umFI"
      },
      "execution_count": 5,
      "outputs": []
    },
    {
      "cell_type": "code",
      "source": [
        "from sklearn.metrics import accuracy_score, classification_report\n"
      ],
      "metadata": {
        "id": "ceG_kwwjOvUJ"
      },
      "execution_count": 6,
      "outputs": []
    },
    {
      "cell_type": "code",
      "source": [
        "import nltk\n",
        "nltk.download('punkt_tab')"
      ],
      "metadata": {
        "colab": {
          "base_uri": "https://localhost:8080/"
        },
        "id": "S0iN0OoFu4W2",
        "outputId": "2653af79-849c-4695-8b5c-25fe1827bf33"
      },
      "execution_count": 7,
      "outputs": [
        {
          "output_type": "stream",
          "name": "stderr",
          "text": [
            "[nltk_data] Downloading package punkt_tab to /root/nltk_data...\n",
            "[nltk_data]   Unzipping tokenizers/punkt_tab.zip.\n"
          ]
        },
        {
          "output_type": "execute_result",
          "data": {
            "text/plain": [
              "True"
            ]
          },
          "metadata": {},
          "execution_count": 7
        }
      ]
    },
    {
      "cell_type": "markdown",
      "source": [
        "Differentiate the positive and Negative sampples"
      ],
      "metadata": {
        "id": "6cgntF6nSnUN"
      }
    },
    {
      "cell_type": "code",
      "source": [
        "positive_tweets = twitter_samples.strings('positive_tweets.json')\n",
        "negative_tweets = twitter_samples.strings('negative_tweets.json')\n",
        "\n",
        "df_pos = pd.DataFrame(positive_tweets, columns=['text'])\n",
        "df_pos['label'] = 'positive'\n",
        "\n",
        "df_neg = pd.DataFrame(negative_tweets, columns=['text'])\n",
        "df_neg['label'] = 'negative'\n",
        "\n",
        "df = pd.concat([df_pos, df_neg]).reset_index(drop=True)"
      ],
      "metadata": {
        "id": "iB8sYSSbuo9a"
      },
      "execution_count": 8,
      "outputs": []
    },
    {
      "cell_type": "markdown",
      "source": [
        "Using Lemmatizer"
      ],
      "metadata": {
        "id": "uPFQAu0kSu-i"
      }
    },
    {
      "cell_type": "code",
      "source": [
        "stop_words = set(stopwords.words('english'))\n",
        "stemmer = PorterStemmer()\n",
        "lemmatizer = WordNetLemmatizer()"
      ],
      "metadata": {
        "id": "wqGfvIcrusvM"
      },
      "execution_count": 9,
      "outputs": []
    },
    {
      "cell_type": "markdown",
      "source": [
        "PREPROCESS THE DATA\n",
        "\n",
        "1.Converting into lower case\n",
        "\n",
        "2.Regex cleaning\n",
        "\n",
        "3.Remove Stopwords\n",
        "\n",
        "4.Tokenization\n",
        "\n",
        "5.Stemming\n",
        "\n",
        "6.Lemmatization\n",
        "\n",
        "7.Generate n-grams"
      ],
      "metadata": {
        "id": "ZkkpLECwSx6V"
      }
    },
    {
      "cell_type": "code",
      "source": [
        "def preprocess_text(text):\n",
        "    text = text.lower()  # lowercase\n",
        "    text = re.sub(r'[^a-zA-Z\\s]', '', text)  # regex cleaning\n",
        "    words = [w for w in text.split() if w not in stop_words]  # remove stopwords\n",
        "    tokens = word_tokenize(' '.join(words))  # tokenize\n",
        "    stemmed = [stemmer.stem(word) for word in tokens]  # stemming\n",
        "    lemmatized = [lemmatizer.lemmatize(word) for word in stemmed]  # lemmatization\n",
        "    bigrams = list(ngrams(lemmatized, 2))\n",
        "    trigrams = list(ngrams(lemmatized,3))\n",
        "    fourgrams = list(ngrams(lemmatized,4))\n",
        "      # generate bigrams\n",
        "    return {\n",
        "        'clean_text': ' '.join(lemmatized),\n",
        "        'tokens': tokens,\n",
        "        'stemmed': stemmed,\n",
        "        'lemmatized': lemmatized,\n",
        "        'bigrams': bigrams,\n",
        "        'trigrams': trigrams,\n",
        "        'fourgrams': fourgrams\n",
        "    }"
      ],
      "metadata": {
        "id": "UbHA9BQEuwvK"
      },
      "execution_count": 10,
      "outputs": []
    },
    {
      "cell_type": "code",
      "source": [
        "processed = df['text'].apply(preprocess_text)\n",
        "df['clean_text'] = processed.apply(lambda x: x['clean_text'])\n",
        "df['tokens'] = processed.apply(lambda x: x['tokens'])\n",
        "df['stemmed'] = processed.apply(lambda x: x['stemmed'])\n",
        "df['lemmatized'] = processed.apply(lambda x: x['lemmatized'])\n",
        "df['bigrams'] = processed.apply(lambda x: x['bigrams'])\n",
        "df['trigrams']    = processed.apply(lambda x: x['trigrams'])\n",
        "df['fourgrams']   = processed.apply(lambda x: x['fourgrams'])"
      ],
      "metadata": {
        "id": "6mvqqp6Wuzw5"
      },
      "execution_count": 11,
      "outputs": []
    },
    {
      "cell_type": "markdown",
      "source": [
        "Printing the preprocessed data"
      ],
      "metadata": {
        "id": "Fze08euYTKwJ"
      }
    },
    {
      "cell_type": "code",
      "source": [
        "print(df[['text', 'clean_text', 'tokens', 'stemmed', 'lemmatized', 'bigrams','trigrams','fourgrams']].head())\n"
      ],
      "metadata": {
        "colab": {
          "base_uri": "https://localhost:8080/"
        },
        "id": "aWi9egRZLilD",
        "outputId": "e329d52b-e695-4a4a-a062-a41fcc047d87"
      },
      "execution_count": 12,
      "outputs": [
        {
          "output_type": "stream",
          "name": "stdout",
          "text": [
            "                                                text  \\\n",
            "0  #FollowFriday @France_Inte @PKuchly57 @Milipol...   \n",
            "1  @Lamb2ja Hey James! How odd :/ Please call our...   \n",
            "2  @DespiteOfficial we had a listen last night :)...   \n",
            "3                               @97sides CONGRATS :)   \n",
            "4  yeaaaah yippppy!!!  my accnt verified rqst has...   \n",
            "\n",
            "                                          clean_text  \\\n",
            "0  followfriday franceint pkuchli milipolpari top...   \n",
            "1  lambja hey jame odd plea call contact centr ab...   \n",
            "2  despiteoffici listen last night bleed amaz tra...   \n",
            "3                                       side congrat   \n",
            "4  yeaaaah yippppi accnt verifi rqst succeed got ...   \n",
            "\n",
            "                                              tokens  \\\n",
            "0  [followfriday, franceinte, pkuchly, milipolpar...   \n",
            "1  [lambja, hey, james, odd, please, call, contac...   \n",
            "2  [despiteofficial, listen, last, night, bleed, ...   \n",
            "3                                  [sides, congrats]   \n",
            "4  [yeaaaah, yippppy, accnt, verified, rqst, succ...   \n",
            "\n",
            "                                             stemmed  \\\n",
            "0  [followfriday, franceint, pkuchli, milipolpari...   \n",
            "1  [lambja, hey, jame, odd, pleas, call, contact,...   \n",
            "2  [despiteoffici, listen, last, night, bleed, am...   \n",
            "3                                    [side, congrat]   \n",
            "4  [yeaaaah, yippppi, accnt, verifi, rqst, succee...   \n",
            "\n",
            "                                          lemmatized  \\\n",
            "0  [followfriday, franceint, pkuchli, milipolpari...   \n",
            "1  [lambja, hey, jame, odd, plea, call, contact, ...   \n",
            "2  [despiteoffici, listen, last, night, bleed, am...   \n",
            "3                                    [side, congrat]   \n",
            "4  [yeaaaah, yippppi, accnt, verifi, rqst, succee...   \n",
            "\n",
            "                                             bigrams  \\\n",
            "0  [(followfriday, franceint), (franceint, pkuchl...   \n",
            "1  [(lambja, hey), (hey, jame), (jame, odd), (odd...   \n",
            "2  [(despiteoffici, listen), (listen, last), (las...   \n",
            "3                                  [(side, congrat)]   \n",
            "4  [(yeaaaah, yippppi), (yippppi, accnt), (accnt,...   \n",
            "\n",
            "                                            trigrams  \\\n",
            "0  [(followfriday, franceint, pkuchli), (francein...   \n",
            "1  [(lambja, hey, jame), (hey, jame, odd), (jame,...   \n",
            "2  [(despiteoffici, listen, last), (listen, last,...   \n",
            "3                                                 []   \n",
            "4  [(yeaaaah, yippppi, accnt), (yippppi, accnt, v...   \n",
            "\n",
            "                                           fourgrams  \n",
            "0  [(followfriday, franceint, pkuchli, milipolpar...  \n",
            "1  [(lambja, hey, jame, odd), (hey, jame, odd, pl...  \n",
            "2  [(despiteoffici, listen, last, night), (listen...  \n",
            "3                                                 []  \n",
            "4  [(yeaaaah, yippppi, accnt, verifi), (yippppi, ...  \n"
          ]
        }
      ]
    },
    {
      "cell_type": "markdown",
      "source": [
        "Valence Aware Dictionary and sEntiment Reasoner(VADER Model)\n",
        "\n",
        "Rule-based lexicon and sentiment analysis tool\n",
        "\n",
        "Purpose: Designed for sentiment analysis of social media text, such as tweets, comments, and short reviews.\n",
        "\n",
        "Combines all scores into one value between -1 and 1:\n",
        "\n",
        "0.05 → Positive\n",
        "\n",
        "< -0.05 → Negative\n",
        "\n",
        "-0.05 to 0.05 → Neutral"
      ],
      "metadata": {
        "id": "W5WPvHu0R02P"
      }
    },
    {
      "cell_type": "code",
      "source": [
        "analyzer = SentimentIntensityAnalyzer()\n",
        "df['vader_score'] = df['clean_text'].apply(lambda x: analyzer.polarity_scores(x)['compound'])\n",
        "df['vader_sentiment'] = df['vader_score'].apply(lambda score: 'positive' if score > 0 else ('negative' if score < 0 else 'neutral'))\n"
      ],
      "metadata": {
        "id": "crlhKO3BvBvl"
      },
      "execution_count": 13,
      "outputs": []
    },
    {
      "cell_type": "code",
      "source": [
        "def vader_sentiment(compound):\n",
        "    if compound >= 0.05:\n",
        "        return \"positive\"\n",
        "    elif compound <= -0.05:\n",
        "        return \"negative\"\n",
        "    else:\n",
        "        return \"neutral\"\n",
        "\n",
        "df['vader_sentiment'] = df['vader_score'].apply(vader_sentiment)\n"
      ],
      "metadata": {
        "id": "6xLD7NPzO4Py"
      },
      "execution_count": 14,
      "outputs": []
    },
    {
      "cell_type": "markdown",
      "source": [
        "Textblob Model:TextBlob is a Python library for processing textual data. It provides a simple API for common natural language processing (NLP) tasks\n",
        "\n",
        "Key Components:\n",
        "\n",
        "Polarity (-1 to 1)\n",
        "\n",
        "Measures sentiment:\n",
        "\n",
        "-1 = very negative\n",
        "\n",
        "0 = neutral\n",
        "\n",
        "1 = very positive"
      ],
      "metadata": {
        "id": "_LllZRptRH82"
      }
    },
    {
      "cell_type": "code",
      "source": [
        "def textblob_sentiment(text):\n",
        "    polarity = TextBlob(text).sentiment.polarity\n",
        "    if polarity > 0:\n",
        "        return 'positive'\n",
        "    elif polarity < 0:\n",
        "        return 'negative'\n",
        "    else:\n",
        "        return 'neutral'\n",
        "\n",
        "df['textblob_sentiment'] = df['clean_text'].apply(textblob_sentiment)"
      ],
      "metadata": {
        "id": "bE6hHh2OvE1S"
      },
      "execution_count": 15,
      "outputs": []
    },
    {
      "cell_type": "markdown",
      "source": [
        "Load the pretrained model for sentimnet analysis -- distilbert-base-uncased-finetuned-sst-2-english"
      ],
      "metadata": {
        "id": "nQzigY9JQ7Ty"
      }
    },
    {
      "cell_type": "code",
      "source": [
        "sentiment_model = pipeline(\"sentiment-analysis\", model=\"distilbert-base-uncased-finetuned-sst-2-english\")\n",
        "\n",
        "def pretrained_sentiment(text):\n",
        "    result = sentiment_model(text[:512])[0]  # truncate long text\n",
        "    return result['label'].lower()  # 'POSITIVE' or 'NEGATIVE'\n",
        "\n",
        "df['pretrained_sentiment'] = df['clean_text'].apply(pretrained_sentiment)\n"
      ],
      "metadata": {
        "colab": {
          "base_uri": "https://localhost:8080/",
          "height": 304,
          "referenced_widgets": [
            "16ae4957974547e68cf661d0a72117e2",
            "d780e0560589498aa931085195af087e",
            "ca4e5a48d7384d5d8167c811cfe3871b",
            "2f3510a5e6c54f6487c6f56cda86f83c",
            "30e36ef13a1441798e5d12de7a1ae6af",
            "8dd4f62361c7414b9211893ff25bd660",
            "3f516deb70c647c0b0cfd716fd513f1a",
            "ed78c45d0f744a40934f7ece09799124",
            "8a01f3568f854d1cab4beb66b4f4e7a8",
            "52020c1d379e4559baabc9e26dd14b36",
            "8145b7d0d6854548bc68020f0b956dd0",
            "63bc081abe2d48f2bc77449850f96c42",
            "f55543c90903404cba2d13c8ff7bcc99",
            "62ea19c7d3434fe19e5325e4a33425b1",
            "4001f7efd3a74880a73730c71d7485b4",
            "57e0435e5acc44a680f3ae88c54e0fcc",
            "69f79222b87040fe90539e490d7a2b3a",
            "e04f0bd47da148eeb72fe7d67f4a1ff9",
            "67c523f1d6d44482b51c8d11ff0316e5",
            "423695f1148a4d6186a3518e644d2ef9",
            "c1c11ab0f26e46d3a2990524a5211e0c",
            "aeca73030c3744c6945cd3df8ea680e8",
            "fabca40d3e1249fe9b560bb4befc94c8",
            "011da64dd0174737b5f9c228241d2764",
            "9779460b9f2d40faa796cadf9e8e6678",
            "b873dfb7510841419f886d8a663c9eef",
            "1415bcf72c994448943e7d98793cc78e",
            "734f7061c4ce49babe565999533d7079",
            "8a76883034d04f4792a87a1528b88bfe",
            "b636e15e927d489cb049a40f2164ae09",
            "35b89b3bb0964b1994c91cc3419e66ec",
            "73d6f283aa3b47f59c23a3d1d1920087",
            "0e8583a3492b4e34bbf17bf06ea2bf37",
            "7a039881e4ca4c80a7e2fbb6ee7bdec5",
            "55cf6789a54641708f22318056b96d09",
            "111a3cf50d724d64a4710b97e0a7ea22",
            "57a7615511064f34939216d85d78fbe6",
            "5b02d4a99e084fcd97f851bc0cae4867",
            "cafc69f4b27f4f9390efe7f715331ec3",
            "b1e437b98f734607a25bee117d014df5",
            "7f295c789d934775895856eb684be0e6",
            "59b5d2e156cb43b7b544ac9c8494a911",
            "b3893cb801af4a31a124734fb05e3fe8",
            "b56b76bda4c64bf3b156f6f0e0da8705"
          ]
        },
        "id": "EYE77wbbv65t",
        "outputId": "cbf4684a-4e79-445a-d99c-6778f98f6e00"
      },
      "execution_count": 16,
      "outputs": [
        {
          "output_type": "stream",
          "name": "stderr",
          "text": [
            "/usr/local/lib/python3.12/dist-packages/huggingface_hub/utils/_auth.py:94: UserWarning: \n",
            "The secret `HF_TOKEN` does not exist in your Colab secrets.\n",
            "To authenticate with the Hugging Face Hub, create a token in your settings tab (https://huggingface.co/settings/tokens), set it as secret in your Google Colab and restart your session.\n",
            "You will be able to reuse this secret in all of your notebooks.\n",
            "Please note that authentication is recommended but still optional to access public models or datasets.\n",
            "  warnings.warn(\n"
          ]
        },
        {
          "output_type": "display_data",
          "data": {
            "text/plain": [
              "config.json:   0%|          | 0.00/629 [00:00<?, ?B/s]"
            ],
            "application/vnd.jupyter.widget-view+json": {
              "version_major": 2,
              "version_minor": 0,
              "model_id": "16ae4957974547e68cf661d0a72117e2"
            }
          },
          "metadata": {}
        },
        {
          "output_type": "display_data",
          "data": {
            "text/plain": [
              "model.safetensors:   0%|          | 0.00/268M [00:00<?, ?B/s]"
            ],
            "application/vnd.jupyter.widget-view+json": {
              "version_major": 2,
              "version_minor": 0,
              "model_id": "63bc081abe2d48f2bc77449850f96c42"
            }
          },
          "metadata": {}
        },
        {
          "output_type": "display_data",
          "data": {
            "text/plain": [
              "tokenizer_config.json:   0%|          | 0.00/48.0 [00:00<?, ?B/s]"
            ],
            "application/vnd.jupyter.widget-view+json": {
              "version_major": 2,
              "version_minor": 0,
              "model_id": "fabca40d3e1249fe9b560bb4befc94c8"
            }
          },
          "metadata": {}
        },
        {
          "output_type": "display_data",
          "data": {
            "text/plain": [
              "vocab.txt:   0%|          | 0.00/232k [00:00<?, ?B/s]"
            ],
            "application/vnd.jupyter.widget-view+json": {
              "version_major": 2,
              "version_minor": 0,
              "model_id": "7a039881e4ca4c80a7e2fbb6ee7bdec5"
            }
          },
          "metadata": {}
        },
        {
          "output_type": "stream",
          "name": "stderr",
          "text": [
            "Device set to use cuda:0\n",
            "You seem to be using the pipelines sequentially on GPU. In order to maximize efficiency please use a dataset\n"
          ]
        }
      ]
    },
    {
      "cell_type": "markdown",
      "source": [
        "Vader Sentimnet Model Distribution"
      ],
      "metadata": {
        "id": "rf6A1HoiQ1y3"
      }
    },
    {
      "cell_type": "code",
      "source": [
        "vader_counts = df['vader_sentiment'].value_counts()\n",
        "plt.figure(figsize=(6,4))\n",
        "sns.barplot(x=vader_counts.index, y=vader_counts.values, palette='pastel')\n",
        "plt.title('VADER Sentiment Distribution')\n",
        "plt.show()\n"
      ],
      "metadata": {
        "colab": {
          "base_uri": "https://localhost:8080/",
          "height": 517
        },
        "id": "2gF1A-BjxIpM",
        "outputId": "43bfb09d-ddbd-42cf-9882-8564392c68e6"
      },
      "execution_count": 17,
      "outputs": [
        {
          "output_type": "stream",
          "name": "stderr",
          "text": [
            "/tmp/ipython-input-2936421100.py:3: FutureWarning: \n",
            "\n",
            "Passing `palette` without assigning `hue` is deprecated and will be removed in v0.14.0. Assign the `x` variable to `hue` and set `legend=False` for the same effect.\n",
            "\n",
            "  sns.barplot(x=vader_counts.index, y=vader_counts.values, palette='pastel')\n"
          ]
        },
        {
          "output_type": "display_data",
          "data": {
            "text/plain": [
              "<Figure size 600x400 with 1 Axes>"
            ],
            "image/png": "[encoded data removed]"
          },
          "metadata": {}
        }
      ]
    },
    {
      "cell_type": "markdown",
      "source": [
        "Textblob Model Sentiment Distribution"
      ],
      "metadata": {
        "id": "jFSZPqSGQu-Y"
      }
    },
    {
      "cell_type": "code",
      "source": [
        "textblob_counts = df['textblob_sentiment'].value_counts()\n",
        "plt.figure(figsize=(6,4))\n",
        "sns.barplot(x=textblob_counts.index, y=textblob_counts.values, palette='pastel')\n",
        "plt.title('TextBlob Sentiment Distribution')\n",
        "plt.show()\n"
      ],
      "metadata": {
        "colab": {
          "base_uri": "https://localhost:8080/",
          "height": 517
        },
        "id": "4KqpggKsxLsc",
        "outputId": "8aea7f5a-6c46-491f-fcb8-c2da83431b41"
      },
      "execution_count": 18,
      "outputs": [
        {
          "output_type": "stream",
          "name": "stderr",
          "text": [
            "/tmp/ipython-input-3354719457.py:3: FutureWarning: \n",
            "\n",
            "Passing `palette` without assigning `hue` is deprecated and will be removed in v0.14.0. Assign the `x` variable to `hue` and set `legend=False` for the same effect.\n",
            "\n",
            "  sns.barplot(x=textblob_counts.index, y=textblob_counts.values, palette='pastel')\n"
          ]
        },
        {
          "output_type": "display_data",
          "data": {
            "text/plain": [
              "<Figure size 600x400 with 1 Axes>"
            ],
            "image/png": "[encoded data removed]"
          },
          "metadata": {}
        }
      ]
    },
    {
      "cell_type": "code",
      "source": [
        "# VADER Accuracy\n",
        "vader_acc = accuracy_score(df['label'], df['vader_sentiment'])\n",
        "print(\"VADER Accuracy:\", vader_acc)\n",
        "\n",
        "# TextBlob Accuracy\n",
        "textblob_acc = accuracy_score(df['label'], df['textblob_sentiment'])\n",
        "print(\"TextBlob Accuracy:\", textblob_acc)\n"
      ],
      "metadata": {
        "colab": {
          "base_uri": "https://localhost:8080/"
        },
        "id": "HZkN4XvEO9Rc",
        "outputId": "7067a1f5-5aa1-4079-cbbd-ea23bd4626db"
      },
      "execution_count": 19,
      "outputs": [
        {
          "output_type": "stream",
          "name": "stdout",
          "text": [
            "VADER Accuracy: 0.3915\n",
            "TextBlob Accuracy: 0.2764\n"
          ]
        }
      ]
    },
    {
      "cell_type": "markdown",
      "source": [
        "VADER Model and TextBlob Accuracy"
      ],
      "metadata": {
        "id": "h00wF5EGQmY7"
      }
    },
    {
      "cell_type": "code",
      "source": [
        "print(\"\\nVADER Classification Report:\")\n",
        "print(classification_report(df['label'], df['vader_sentiment']))\n",
        "\n",
        "print(\"\\nTextBlob Classification Report:\")\n",
        "print(classification_report(df['label'], df['textblob_sentiment']))\n"
      ],
      "metadata": {
        "colab": {
          "base_uri": "https://localhost:8080/"
        },
        "id": "zxyNy3zgPAv_",
        "outputId": "42d77118-206b-4994-f5ed-0e0c64239dea"
      },
      "execution_count": 20,
      "outputs": [
        {
          "output_type": "stream",
          "name": "stderr",
          "text": [
            "/usr/local/lib/python3.12/dist-packages/sklearn/metrics/_classification.py:1565: UndefinedMetricWarning: Recall is ill-defined and being set to 0.0 in labels with no true samples. Use `zero_division` parameter to control this behavior.\n",
            "  _warn_prf(average, modifier, f\"{metric.capitalize()} is\", len(result))\n",
            "/usr/local/lib/python3.12/dist-packages/sklearn/metrics/_classification.py:1565: UndefinedMetricWarning: Recall is ill-defined and being set to 0.0 in labels with no true samples. Use `zero_division` parameter to control this behavior.\n",
            "  _warn_prf(average, modifier, f\"{metric.capitalize()} is\", len(result))\n"
          ]
        },
        {
          "output_type": "stream",
          "name": "stdout",
          "text": [
            "\n",
            "VADER Classification Report:\n",
            "              precision    recall  f1-score   support\n",
            "\n",
            "    negative       0.77      0.26      0.39      5000\n",
            "     neutral       0.00      0.00      0.00         0\n",
            "    positive       0.64      0.52      0.58      5000\n",
            "\n",
            "    accuracy                           0.39     10000\n",
            "   macro avg       0.47      0.26      0.32     10000\n",
            "weighted avg       0.71      0.39      0.48     10000\n",
            "\n",
            "\n",
            "TextBlob Classification Report:\n",
            "              precision    recall  f1-score   support\n",
            "\n",
            "    negative       0.70      0.18      0.28      5000\n",
            "     neutral       0.00      0.00      0.00         0\n",
            "    positive       0.64      0.38      0.48      5000\n",
            "\n",
            "    accuracy                           0.28     10000\n",
            "   macro avg       0.45      0.18      0.25     10000\n",
            "weighted avg       0.67      0.28      0.38     10000\n",
            "\n"
          ]
        },
        {
          "output_type": "stream",
          "name": "stderr",
          "text": [
            "/usr/local/lib/python3.12/dist-packages/sklearn/metrics/_classification.py:1565: UndefinedMetricWarning: Recall is ill-defined and being set to 0.0 in labels with no true samples. Use `zero_division` parameter to control this behavior.\n",
            "  _warn_prf(average, modifier, f\"{metric.capitalize()} is\", len(result))\n",
            "/usr/local/lib/python3.12/dist-packages/sklearn/metrics/_classification.py:1565: UndefinedMetricWarning: Recall is ill-defined and being set to 0.0 in labels with no true samples. Use `zero_division` parameter to control this behavior.\n",
            "  _warn_prf(average, modifier, f\"{metric.capitalize()} is\", len(result))\n",
            "/usr/local/lib/python3.12/dist-packages/sklearn/metrics/_classification.py:1565: UndefinedMetricWarning: Recall is ill-defined and being set to 0.0 in labels with no true samples. Use `zero_division` parameter to control this behavior.\n",
            "  _warn_prf(average, modifier, f\"{metric.capitalize()} is\", len(result))\n",
            "/usr/local/lib/python3.12/dist-packages/sklearn/metrics/_classification.py:1565: UndefinedMetricWarning: Recall is ill-defined and being set to 0.0 in labels with no true samples. Use `zero_division` parameter to control this behavior.\n",
            "  _warn_prf(average, modifier, f\"{metric.capitalize()} is\", len(result))\n"
          ]
        }
      ]
    },
    {
      "cell_type": "markdown",
      "source": [
        "Pretrained Model Sentimnet Distribution"
      ],
      "metadata": {
        "id": "N8uzYyYlQc0e"
      }
    },
    {
      "cell_type": "code",
      "source": [
        "pretrained_counts = df['pretrained_sentiment'].value_counts()\n",
        "plt.figure(figsize=(6,4))\n",
        "sns.barplot(x=pretrained_counts.index, y=pretrained_counts.values, palette='pastel')\n",
        "plt.title('Pretrained Model Sentiment Distribution')\n",
        "plt.show()\n"
      ],
      "metadata": {
        "colab": {
          "base_uri": "https://localhost:8080/",
          "height": 517
        },
        "id": "v7-GG26wxOkX",
        "outputId": "b09a41ae-6a9f-4e97-997a-6a532bc284e1"
      },
      "execution_count": 21,
      "outputs": [
        {
          "output_type": "stream",
          "name": "stderr",
          "text": [
            "/tmp/ipython-input-2733888393.py:3: FutureWarning: \n",
            "\n",
            "Passing `palette` without assigning `hue` is deprecated and will be removed in v0.14.0. Assign the `x` variable to `hue` and set `legend=False` for the same effect.\n",
            "\n",
            "  sns.barplot(x=pretrained_counts.index, y=pretrained_counts.values, palette='pastel')\n"
          ]
        },
        {
          "output_type": "display_data",
          "data": {
            "text/plain": [
              "<Figure size 600x400 with 1 Axes>"
            ],
            "image/png": "[encoded data removed]"
          },
          "metadata": {}
        }
      ]
    },
    {
      "cell_type": "markdown",
      "source": [
        "Compare both the Rule based models and the Pretrained Model"
      ],
      "metadata": {
        "id": "byCfi-c7QP5J"
      }
    },
    {
      "cell_type": "code",
      "source": [
        "import matplotlib.pyplot as plt\n",
        "import seaborn as sns\n",
        "\n",
        "# Count predictions for each model\n",
        "vader_counts = df['vader_sentiment'].value_counts()\n",
        "textblob_counts = df['textblob_sentiment'].value_counts()\n",
        "pretrained_counts = df['pretrained_sentiment'].value_counts()\n",
        "\n",
        "# Combine into one DataFrame\n",
        "comparison_df = pd.DataFrame({\n",
        "    'VADER': vader_counts,\n",
        "    'TextBlob': textblob_counts,\n",
        "    'Pretrained': pretrained_counts\n",
        "}).fillna(0)  # fill missing values with 0\n",
        "\n",
        "# Plot\n",
        "comparison_df.T.plot(kind='bar', figsize=(8,5), color=['#ff9999','#99ff99','#9999ff'])\n",
        "plt.title('Sentiment Predictions Comparison')\n",
        "plt.ylabel('Count')\n",
        "plt.xticks(rotation=0)\n",
        "plt.legend(title='Sentiment')\n",
        "plt.show()\n"
      ],
      "metadata": {
        "colab": {
          "base_uri": "https://localhost:8080/",
          "height": 468
        },
        "id": "56s7vSlmP7mp",
        "outputId": "c03cad47-1134-4c42-e20c-ffdf38c5540f"
      },
      "execution_count": 22,
      "outputs": [
        {
          "output_type": "display_data",
          "data": {
            "text/plain": [
              "<Figure size 800x500 with 1 Axes>"
            ],
            "image/png": "[encoded data removed]"
          },
          "metadata": {}
        }
      ]
    },
    {
      "cell_type": "code",
      "source": [
        "import nltk\n",
        "from textblob import TextBlob\n",
        "from nltk.sentiment.util import mark_negation, extract_unigram_feats\n",
        "\n",
        "# Download resources\n",
        "nltk.download('twitter_samples')\n",
        "nltk.download('punkt')\n",
        "\n",
        "from nltk.corpus import twitter_samples\n",
        "\n",
        "# Load dataset\n",
        "positive_tweets = twitter_samples.tokenized('positive_tweets.json')\n",
        "negative_tweets = twitter_samples.tokenized('negative_tweets.json')\n",
        "\n",
        "# Negation marking\n",
        "all_positive = [mark_negation(doc) for doc in positive_tweets]\n",
        "all_negative = [mark_negation(doc) for doc in negative_tweets]\n",
        "\n",
        "# Extract unigrams\n",
        "all_words = [word for tweet in (all_positive + all_negative) for word in tweet]\n",
        "freq_dist = nltk.FreqDist(all_words)\n",
        "unigram_features = list(freq_dist.keys())[:200]\n",
        "\n",
        "# Build feature sets\n",
        "positive_features = [(extract_unigram_feats(doc, unigram_features), 'Positive') for doc in all_positive]\n",
        "negative_features = [(extract_unigram_feats(doc, unigram_features), 'Negative') for doc in all_negative]\n",
        "\n",
        "# Combine and train\n",
        "train_set = positive_features + negative_features\n",
        "classifier = nltk.NaiveBayesClassifier.train(train_set)\n",
        "\n",
        "print(\"Training complete ✅\")\n",
        "\n",
        "#  Prediction Function\n",
        "def predict_sentiment(user_input):\n",
        "    # TextBlob sentiment\n",
        "    blob = TextBlob(user_input)\n",
        "    tb_polarity = blob.sentiment.polarity\n",
        "    tb_sentiment = \"Positive\" if tb_polarity > 0 else \"Negative\" if tb_polarity < 0 else \"Neutral\"\n",
        "\n",
        "    # NLTK sentiment\n",
        "    tokens = nltk.word_tokenize(user_input)\n",
        "    features = extract_unigram_feats(tokens, unigram_features)\n",
        "    nltk_sentiment = classifier.classify(features)\n",
        "\n",
        "    print(f\"\\nUser Input: {user_input}\")\n",
        "    print(f\"TextBlob Sentiment: {tb_sentiment} (polarity={tb_polarity})\")\n",
        "    print(f\"NLTK Sentiment: {nltk_sentiment}\")\n",
        "\n",
        "# Example\n",
        "user_input = input(\"Enter a statement: \")\n",
        "predict_sentiment(user_input)\n"
      ],
      "metadata": {
        "colab": {
          "base_uri": "https://localhost:8080/"
        },
        "id": "O3Tf2xJi51OE",
        "outputId": "a340ce37-711a-494d-9b49-9996189194ee"
      },
      "execution_count": 30,
      "outputs": [
        {
          "output_type": "stream",
          "name": "stderr",
          "text": [
            "[nltk_data] Downloading package twitter_samples to /root/nltk_data...\n",
            "[nltk_data]   Package twitter_samples is already up-to-date!\n",
            "[nltk_data] Downloading package punkt to /root/nltk_data...\n",
            "[nltk_data]   Package punkt is already up-to-date!\n"
          ]
        },
        {
          "output_type": "stream",
          "name": "stdout",
          "text": [
            "Training complete ✅\n",
            "Enter a statement: The movie is not good\n",
            "\n",
            "User Input: The movie is not good\n",
            "TextBlob Sentiment: Negative (polarity=-0.35)\n",
            "NLTK Sentiment: Negative\n"
          ]
        }
      ]
    },
    {
      "cell_type": "markdown",
      "source": [
        "Conclusion:\n",
        "\n",
        "DistilBERT: Most reliable, context-aware, high accuracy. Ideal for production.\n",
        "\n",
        "VADER: Quick, interpretable, best for informal text and social media.\n",
        "\n",
        "TextBlob: Simple, lightweight, good for prototyping, but lower accuracy."
      ],
      "metadata": {
        "id": "ggaaXk8eY5Sq"
      }
    },
    {
      "cell_type": "markdown",
      "source": [
        "Practical Comparison of Sentiment Analysis Models:\n",
        "\n",
        "VADER:\n",
        "\n",
        "Accuracy: ~70–75%\n",
        "\n",
        "Performs well on short, informal text, like tweets or product reviews.\n",
        "\n",
        "Handles punctuation, capitalization, and negations.\n",
        "\n",
        "Struggles with long, complex sentences or domain-specific vocabulary.\n",
        "\n",
        "TextBlob:\n",
        "\n",
        "Accuracy: ~60–65%\n",
        "\n",
        "Lexicon-based, best for formal text.\n",
        "\n",
        "Often biased toward neutral or positive predictions.\n",
        "\n",
        "Poor handling of slang, and punctuation emphasis.\n",
        "\n",
        "DistilBERT (distilbert-base-uncased-finetuned-sst-2-english):\n",
        "\n",
        "Accuracy: ~85–90%\n",
        "\n",
        "Deep learning model, context-aware, handles negation, sarcasm, and long sentences.\n",
        "\n",
        "Predicts only binary sentiment (positive/negative).\n",
        "\n",
        "Slightly slower than lexicon-based models but highly accurate."
      ],
      "metadata": {
        "id": "tiMWM2KVZHKa"
      }
    }
  ]
}